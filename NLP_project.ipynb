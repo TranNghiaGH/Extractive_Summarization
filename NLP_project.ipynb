{
 "cells": [
  {
   "cell_type": "code",
   "execution_count": 87,
   "metadata": {
    "id": "WnLWet0Ed0qv"
   },
   "outputs": [],
   "source": [
    "import requests\n",
    "import pandas as pd\n",
    "import IPython\n",
    "from bs4 import BeautifulSoup"
   ]
  },
  {
   "cell_type": "code",
   "execution_count": 88,
   "metadata": {
    "id": "bAU6wriJe8k6"
   },
   "outputs": [],
   "source": [
    "def crawNewsData(baseUrl, url):\n",
    "    response = requests.get(url)\n",
    "    soup = BeautifulSoup(response.content, \"html.parser\")\n",
    "    titles = soup.findAll('h3', class_='box-title-text')\n",
    "    data = []\n",
    "    for title in titles:\n",
    "        link = title.find('a').attrs[\"href\"]\n",
    "        news = requests.get(baseUrl + link)\n",
    "        news_soup = BeautifulSoup(news.content, \"html.parser\")\n",
    "        title = news_soup.find(\"h1\", class_=\"detail-title\").text\n",
    "        content = getNewsContent(baseUrl + link)\n",
    "        data.append({\n",
    "            \"title\": title,\n",
    "            \"content\": content,\n",
    "        })\n",
    "    return data\n",
    "\n",
    "def getNewsContent(url):\n",
    "    response = requests.get(url)\n",
    "    soup = BeautifulSoup(response.content, \"html.parser\")\n",
    "    content = \"\"\n",
    "    body = soup.find(\"div\", class_=\"detail-content afcbc-body\")\n",
    "    paragraphs = body.find_all(\"p\")\n",
    "    content = \"\\n\".join([p.text.strip() for p in paragraphs])\n",
    "    return content"
   ]
  },
  {
   "cell_type": "code",
   "execution_count": 89,
   "metadata": {
    "id": "hmRIhERXfonw"
   },
   "outputs": [],
   "source": [
    "data = crawNewsData(\"https://tuoitre.vn/\", \"https://tuoitre.vn/tin-moi-nhat.htm\")\n",
    "df = pd.DataFrame(data)"
   ]
  },
  {
   "cell_type": "code",
   "execution_count": 90,
   "metadata": {
    "colab": {
     "base_uri": "https://localhost:8080/",
     "height": 677
    },
    "id": "n3ADXn0qgBGf",
    "outputId": "2ddadb42-e27e-4e2e-d228-138c80227489"
   },
   "outputs": [
    {
     "data": {
      "text/html": [
       "<div>\n",
       "<style scoped>\n",
       "    .dataframe tbody tr th:only-of-type {\n",
       "        vertical-align: middle;\n",
       "    }\n",
       "\n",
       "    .dataframe tbody tr th {\n",
       "        vertical-align: top;\n",
       "    }\n",
       "\n",
       "    .dataframe thead th {\n",
       "        text-align: right;\n",
       "    }\n",
       "</style>\n",
       "<table border=\"1\" class=\"dataframe\">\n",
       "  <thead>\n",
       "    <tr style=\"text-align: right;\">\n",
       "      <th></th>\n",
       "      <th>title</th>\n",
       "      <th>content</th>\n",
       "    </tr>\n",
       "  </thead>\n",
       "  <tbody>\n",
       "    <tr>\n",
       "      <th>0</th>\n",
       "      <td>Bắt nhóm mua bán dung dịch vệ sinh phụ nữ giả ...</td>\n",
       "      <td>Tang vật vụ án - Ảnh Công an tỉnh Thanh Hóa cu...</td>\n",
       "    </tr>\n",
       "    <tr>\n",
       "      <th>1</th>\n",
       "      <td>Từ 31-3, miền Bắc và miền Trung nắng nóng diện...</td>\n",
       "      <td>Từ 31-3, miền Bắc và miền Trung nắng nóng diện...</td>\n",
       "    </tr>\n",
       "    <tr>\n",
       "      <th>2</th>\n",
       "      <td>Vụ doanh nghiệp bị truy thu tiền thuê đất: Cục...</td>\n",
       "      <td>Cục Thuế Cần Thơ bị kiện sau gần 2 năm giải qu...</td>\n",
       "    </tr>\n",
       "    <tr>\n",
       "      <th>3</th>\n",
       "      <td>Đề xuất khen thưởng, tặng voucher du lịch cho ...</td>\n",
       "      <td>Nữ điều dưỡng Đặng Thị Hạ (bìa trái) làm việc ...</td>\n",
       "    </tr>\n",
       "    <tr>\n",
       "      <th>4</th>\n",
       "      <td>Chủ tịch Hà Nội giao công an vào cuộc vụ 3 cây...</td>\n",
       "      <td>Một cây sao đen chết khô trước số nhà 34 Lò Đú...</td>\n",
       "    </tr>\n",
       "    <tr>\n",
       "      <th>5</th>\n",
       "      <td>Philippines tuyên bố sẽ đáp trả tương xứng với...</td>\n",
       "      <td>Tàu hải cảnh Trung Quốc (trái) phun vòi rồng v...</td>\n",
       "    </tr>\n",
       "    <tr>\n",
       "      <th>6</th>\n",
       "      <td>Cần đầu tư tối thiểu 9 tỉ USD để có đủ nước sạ...</td>\n",
       "      <td>Đường phố Hà Nội ngập úng sau mỗi cơn mưa lớn ...</td>\n",
       "    </tr>\n",
       "    <tr>\n",
       "      <th>7</th>\n",
       "      <td>Gạo, cà phê, rau quả xuất khẩu của Việt Nam 'đ...</td>\n",
       "      <td>Thanh long được đóng gói trước khi xuất khẩu -...</td>\n",
       "    </tr>\n",
       "    <tr>\n",
       "      <th>8</th>\n",
       "      <td>Măng tre có thể cung cấp nguồn protein tương t...</td>\n",
       "      <td>Ảnh: thechinaboss.com\\nTheo một bài báo đăng t...</td>\n",
       "    </tr>\n",
       "    <tr>\n",
       "      <th>9</th>\n",
       "      <td>Thị trường lao động: Tuyển dụng nhiều, nghỉ vi...</td>\n",
       "      <td>Nhu cầu tuyển dụng thống kê từ 14.300 lượt doa...</td>\n",
       "    </tr>\n",
       "  </tbody>\n",
       "</table>\n",
       "</div>"
      ],
      "text/plain": [
       "                                               title   \n",
       "0  Bắt nhóm mua bán dung dịch vệ sinh phụ nữ giả ...  \\\n",
       "1  Từ 31-3, miền Bắc và miền Trung nắng nóng diện...   \n",
       "2  Vụ doanh nghiệp bị truy thu tiền thuê đất: Cục...   \n",
       "3  Đề xuất khen thưởng, tặng voucher du lịch cho ...   \n",
       "4  Chủ tịch Hà Nội giao công an vào cuộc vụ 3 cây...   \n",
       "5  Philippines tuyên bố sẽ đáp trả tương xứng với...   \n",
       "6  Cần đầu tư tối thiểu 9 tỉ USD để có đủ nước sạ...   \n",
       "7  Gạo, cà phê, rau quả xuất khẩu của Việt Nam 'đ...   \n",
       "8  Măng tre có thể cung cấp nguồn protein tương t...   \n",
       "9  Thị trường lao động: Tuyển dụng nhiều, nghỉ vi...   \n",
       "\n",
       "                                             content  \n",
       "0  Tang vật vụ án - Ảnh Công an tỉnh Thanh Hóa cu...  \n",
       "1  Từ 31-3, miền Bắc và miền Trung nắng nóng diện...  \n",
       "2  Cục Thuế Cần Thơ bị kiện sau gần 2 năm giải qu...  \n",
       "3  Nữ điều dưỡng Đặng Thị Hạ (bìa trái) làm việc ...  \n",
       "4  Một cây sao đen chết khô trước số nhà 34 Lò Đú...  \n",
       "5  Tàu hải cảnh Trung Quốc (trái) phun vòi rồng v...  \n",
       "6  Đường phố Hà Nội ngập úng sau mỗi cơn mưa lớn ...  \n",
       "7  Thanh long được đóng gói trước khi xuất khẩu -...  \n",
       "8  Ảnh: thechinaboss.com\\nTheo một bài báo đăng t...  \n",
       "9  Nhu cầu tuyển dụng thống kê từ 14.300 lượt doa...  "
      ]
     },
     "execution_count": 90,
     "metadata": {},
     "output_type": "execute_result"
    }
   ],
   "source": [
    "df.head(10)"
   ]
  },
  {
   "cell_type": "code",
   "execution_count": 91,
   "metadata": {
    "colab": {
     "base_uri": "https://localhost:8080/"
    },
    "id": "aVc_RDXbgIzL",
    "outputId": "1d27fed2-87a9-4438-a233-f92238c3e702"
   },
   "outputs": [
    {
     "name": "stdout",
     "output_type": "stream",
     "text": [
      "Requirement already satisfied: pyvi in c:\\python3\\lib\\site-packages (0.1.1)\n",
      "Requirement already satisfied: scikit-learn in c:\\python3\\lib\\site-packages (from pyvi) (1.2.2)\n",
      "Requirement already satisfied: sklearn-crfsuite in c:\\python3\\lib\\site-packages (from pyvi) (0.3.6)\n",
      "Requirement already satisfied: numpy>=1.17.3 in c:\\python3\\lib\\site-packages (from scikit-learn->pyvi) (1.23.5)\n",
      "Requirement already satisfied: scipy>=1.3.2 in c:\\python3\\lib\\site-packages (from scikit-learn->pyvi) (1.10.1)\n",
      "Requirement already satisfied: joblib>=1.1.1 in c:\\python3\\lib\\site-packages (from scikit-learn->pyvi) (1.2.0)\n",
      "Requirement already satisfied: threadpoolctl>=2.0.0 in c:\\python3\\lib\\site-packages (from scikit-learn->pyvi) (3.1.0)\n",
      "Requirement already satisfied: python-crfsuite>=0.8.3 in c:\\python3\\lib\\site-packages (from sklearn-crfsuite->pyvi) (0.9.10)\n",
      "Requirement already satisfied: six in c:\\python3\\lib\\site-packages (from sklearn-crfsuite->pyvi) (1.16.0)\n",
      "Requirement already satisfied: tabulate in c:\\python3\\lib\\site-packages (from sklearn-crfsuite->pyvi) (0.9.0)\n",
      "Requirement already satisfied: tqdm>=2.0 in c:\\python3\\lib\\site-packages (from sklearn-crfsuite->pyvi) (4.66.1)\n",
      "Requirement already satisfied: colorama in c:\\python3\\lib\\site-packages (from tqdm>=2.0->sklearn-crfsuite->pyvi) (0.4.6)\n",
      "Requirement already satisfied: nltk in c:\\python3\\lib\\site-packages (3.8.1)\n",
      "Requirement already satisfied: click in c:\\python3\\lib\\site-packages (from nltk) (8.1.7)\n",
      "Requirement already satisfied: joblib in c:\\python3\\lib\\site-packages (from nltk) (1.2.0)\n",
      "Requirement already satisfied: regex>=2021.8.3 in c:\\python3\\lib\\site-packages (from nltk) (2023.10.3)\n",
      "Requirement already satisfied: tqdm in c:\\python3\\lib\\site-packages (from nltk) (4.66.1)\n",
      "Requirement already satisfied: colorama in c:\\python3\\lib\\site-packages (from click->nltk) (0.4.6)\n",
      "Requirement already satisfied: gensim in c:\\python3\\lib\\site-packages (4.3.2)\n",
      "Requirement already satisfied: numpy>=1.18.5 in c:\\python3\\lib\\site-packages (from gensim) (1.23.5)\n",
      "Requirement already satisfied: scipy>=1.7.0 in c:\\python3\\lib\\site-packages (from gensim) (1.10.1)\n",
      "Requirement already satisfied: smart-open>=1.8.1 in c:\\python3\\lib\\site-packages (from gensim) (7.0.4)\n",
      "Requirement already satisfied: wrapt in c:\\python3\\lib\\site-packages (from smart-open>=1.8.1->gensim) (1.14.1)\n"
     ]
    }
   ],
   "source": [
    "!pip install pyvi\n",
    "!pip install nltk\n",
    "!pip install gensim"
   ]
  },
  {
   "cell_type": "code",
   "execution_count": 92,
   "metadata": {
    "colab": {
     "base_uri": "https://localhost:8080/"
    },
    "id": "KbEkdlpwgNaC",
    "outputId": "de26aca3-7185-4fa0-c575-fa182bc668d9"
   },
   "outputs": [
    {
     "name": "stderr",
     "output_type": "stream",
     "text": [
      "[nltk_data] Downloading package punkt to\n",
      "[nltk_data]     C:\\Users\\ADMIN\\AppData\\Roaming\\nltk_data...\n",
      "[nltk_data]   Package punkt is already up-to-date!\n"
     ]
    },
    {
     "data": {
      "text/plain": [
       "True"
      ]
     },
     "execution_count": 92,
     "metadata": {},
     "output_type": "execute_result"
    }
   ],
   "source": [
    "import pickle\n",
    "import numpy as np\n",
    "from pyvi import ViTokenizer\n",
    "import nltk\n",
    "nltk.download('punkt')"
   ]
  },
  {
   "cell_type": "code",
   "execution_count": 93,
   "metadata": {
    "id": "JBRQIAYUgthq"
   },
   "outputs": [
    {
     "data": {
      "text/plain": [
       "'đường phố hà nội ngập úng sau mỗi cơn mưa lớn nam trần những thông tin này được các chuyên gia của việt nam và quốc tế khuyến cáo tại hội thảo \"chiến lược thích ứng với biến đổi khí hậu, tập trung vào khủng hoảng khí hậu và nguồn nước\" tổ chức tại hà nội sáng 28-3, trong khuôn khổ tuần lễ nước quốc tế singapore. \"hiện việt nam có 750 nhà máy xử lý nước sạch với tổng công suất hơn 1 triệu m3/ngày đêm. tỉ lệ dân cư đô thị được dùng nước sạch hơn 92%, trong khi trung bình cả nước là 17,5%\" - ông nguyễn ngọc điệp, chủ tịch hội cấp thoát nước việt nam, cho biết. theo ông điệp, hiện có 71 doanh nghiệp thoát nước, xử lý nước thải, chủ yếu là thoát nước dùng chung với 82 nhà máy xử lý nước thải, công suất thiết kế 1 triệu m3/ngày đêm, cùng với khoảng 80 dự án xử lý nước thải, công suất hơn 2 triệu m3/ngày đêm đang được triển khai. tuy nhiên, tỉ lệ thu gom nước thải mới đạt 60% và  tỉ lệ xử lý nước thải mới đạt 17%. \"trong khi đó, vấn đề ngập lụt đô thị, nhất là tại hà nội, tp.hcm là cấp bách, nhưng lại thiếu giải pháp căn cơ, lâu dài\" - ông điệp nhấn mạnh. cũng tại hội thảo, gs nguyễn việt anh, viện trưởng viện khoa học và kỹ thuật môi trường, trường đh xây dựng hà nội, đánh giá: \"hiện nay, ngành nước của việt nam có nhiều thách thức. trong đó thách thức lớn nhất mà chúng ta đang gặp phải là do đất nước đang phát triển công nghiệp quá nhanh, quá nóng dẫn đến hạ tầng đáp ứng không kịp, nên các dịch vụ thiết yếu trong đó có nước vẫn chưa đáp ứng được nhu cầu\". \"bên cạnh đó, biến đổi khí hậu cũng là một thách thức không nhỏ. hiện nay, nhiều địa phương ở đồng bằng sông cửu long đối mặt với hạn hán khủng khiếp\" - gs nguyễn việt anh phân tích. ô nhiễm nghiêm trọng nguồn nước trên con sông chảy qua nội đô thành phố nam trần \"ô nhiễm nguồn nước sẽ làm giảm gdp của việt nam 3,5% mỗi năm, nếu chúng ta không có những hành động thiết thực để bảo vệ nguồn nước. nguyên nhân của việc ô nhiễm là phần lớn nước thải chưa được xử lý đã xả thẳng vào nguồn nước. ở việt nam có rất ít hộ gia đình có hệ thống thoát nước, trong đó chỉ có 17% nước thải đô thị được xử lý trước khi xả vào nguồn nước\" - bà halla maher qaddumi, chuyên gia kinh tế cấp cao ngành nước của wb, chia sẻ tại hội thảo. bà halla maher qaddumi cho rằng việt nam được xếp vào mức dồi dào nước nhưng đang phải đối mặt với tình huống hạn hán vào mùa khô tại các sông trọng điểm, nơi có thể cấp đến 80% gdp cho cả nước. tình trạng này sẽ trở nên tồi tệ hơn nếu trong vài thập kỷ tới chúng ta không có những hành động tích cực. các chuyên gia trong và ngoài nước cảnh báo về những ảnh hưởng của hạ tầng cấp thoát nước đến đời sống và tốc độ phát triển của việt nam thanh hà \"việc đầu tư hạ tầng cấp thoát nước chưa đạt yêu cầu. để 100% người dân được dùng nước sạch, chúng ta sẽ phải đầu tư lớn\" - ông điệp phân tích và chia sẻ số liệu từ báo cáo của ngân hàng thế giới (wb) cho hay chúng ta cần đầu tư khoảng 9 tỉ usd đến năm 2030 cho hạ tầng cấp thoát nước, bao gồm việc cung cấp đủ nước sạch cho người dân và thoát nước, xử lý nước thải. đây là con số thách thức trong bối cảnh các nguồn lực đầu tư hạn chế - chủ tịch hội cấp thoát nước việt nam nhìn nhận. cùng quan điểm trên, gs nguyễn việt anh còn cho rằng con số gần 9 tỉ usd chỉ đáp ứng được những nhu cầu tối thiểu. ông cho rằng thực tế nhiều tổ chức quốc tế đánh giá việt nam cần tới 30 tỉ usd để hoàn thiện các hạ tầng cấp thoát nước, gồm các dự án nước sạch, xử lý nước thải dân sinh và công nghiệp. vì thế, gs nguyễn việt anh kiến nghị các cơ quan quản lý nhà nước cần đánh giá đúng giá trị của nước để đưa ra khung chính sách phù hợp, và cần tư nhân hóa, huy động nguồn lực đầu tư hạ tầng lĩnh vực này. còn ông nguyễn ngọc điệp kiến nghị các ngành chức năng cần điều chỉnh hệ thống pháp luật theo hướng cởi mở và đổi mới kỹ thuật, để thu hút các doanh nghiệp trong và ngoài nước đầu tư vào lĩnh vực hạ tầng cấp thoát nước. dự báo mùa khô năm 2023 - 2024, xâm nhập mặn tại đồng bằng sông cửu long ở mức cao hơn trung bình nhiều năm, nguy cơ thiếu nước ngọt cục bộ.'"
      ]
     },
     "metadata": {},
     "output_type": "display_data"
    }
   ],
   "source": [
    "contents = df['content']\n",
    "contents_parsed = []\n",
    "for content in contents:\n",
    "    contents_parsed.append(content.lower().replace('\\n', ' ').replace(' - ảnh: ', ' ').strip())\n",
    "display(contents_parsed[6])"
   ]
  },
  {
   "cell_type": "code",
   "execution_count": 94,
   "metadata": {
    "colab": {
     "base_uri": "https://localhost:8080/",
     "height": 659
    },
    "id": "nJKRUoqdhI8A",
    "outputId": "769fa38f-86d2-46d7-a919-db07690fc31e"
   },
   "outputs": [
    {
     "data": {
      "text/plain": [
       "['đường phố hà nội ngập úng sau mỗi cơn mưa lớn nam trần những thông tin này được các chuyên gia của việt nam và quốc tế khuyến cáo tại hội thảo \"chiến lược thích ứng với biến đổi khí hậu, tập trung vào khủng hoảng khí hậu và nguồn nước\" tổ chức tại hà nội sáng 28-3, trong khuôn khổ tuần lễ nước quốc tế singapore.',\n",
       " '\"hiện việt nam có 750 nhà máy xử lý nước sạch với tổng công suất hơn 1 triệu m3/ngày đêm.',\n",
       " 'tỉ lệ dân cư đô thị được dùng nước sạch hơn 92%, trong khi trung bình cả nước là 17,5%\" - ông nguyễn ngọc điệp, chủ tịch hội cấp thoát nước việt nam, cho biết.',\n",
       " 'theo ông điệp, hiện có 71 doanh nghiệp thoát nước, xử lý nước thải, chủ yếu là thoát nước dùng chung với 82 nhà máy xử lý nước thải, công suất thiết kế 1 triệu m3/ngày đêm, cùng với khoảng 80 dự án xử lý nước thải, công suất hơn 2 triệu m3/ngày đêm đang được triển khai.',\n",
       " 'tuy nhiên, tỉ lệ thu gom nước thải mới đạt 60% và  tỉ lệ xử lý nước thải mới đạt 17%.',\n",
       " '\"trong khi đó, vấn đề ngập lụt đô thị, nhất là tại hà nội, tp.hcm là cấp bách, nhưng lại thiếu giải pháp căn cơ, lâu dài\" - ông điệp nhấn mạnh.',\n",
       " 'cũng tại hội thảo, gs nguyễn việt anh, viện trưởng viện khoa học và kỹ thuật môi trường, trường đh xây dựng hà nội, đánh giá: \"hiện nay, ngành nước của việt nam có nhiều thách thức.',\n",
       " 'trong đó thách thức lớn nhất mà chúng ta đang gặp phải là do đất nước đang phát triển công nghiệp quá nhanh, quá nóng dẫn đến hạ tầng đáp ứng không kịp, nên các dịch vụ thiết yếu trong đó có nước vẫn chưa đáp ứng được nhu cầu\".',\n",
       " '\"bên cạnh đó, biến đổi khí hậu cũng là một thách thức không nhỏ.',\n",
       " 'hiện nay, nhiều địa phương ở đồng bằng sông cửu long đối mặt với hạn hán khủng khiếp\" - gs nguyễn việt anh phân tích.',\n",
       " 'ô nhiễm nghiêm trọng nguồn nước trên con sông chảy qua nội đô thành phố nam trần \"ô nhiễm nguồn nước sẽ làm giảm gdp của việt nam 3,5% mỗi năm, nếu chúng ta không có những hành động thiết thực để bảo vệ nguồn nước.',\n",
       " 'nguyên nhân của việc ô nhiễm là phần lớn nước thải chưa được xử lý đã xả thẳng vào nguồn nước.',\n",
       " 'ở việt nam có rất ít hộ gia đình có hệ thống thoát nước, trong đó chỉ có 17% nước thải đô thị được xử lý trước khi xả vào nguồn nước\" - bà halla maher qaddumi, chuyên gia kinh tế cấp cao ngành nước của wb, chia sẻ tại hội thảo.',\n",
       " 'bà halla maher qaddumi cho rằng việt nam được xếp vào mức dồi dào nước nhưng đang phải đối mặt với tình huống hạn hán vào mùa khô tại các sông trọng điểm, nơi có thể cấp đến 80% gdp cho cả nước.',\n",
       " 'tình trạng này sẽ trở nên tồi tệ hơn nếu trong vài thập kỷ tới chúng ta không có những hành động tích cực.',\n",
       " 'các chuyên gia trong và ngoài nước cảnh báo về những ảnh hưởng của hạ tầng cấp thoát nước đến đời sống và tốc độ phát triển của việt nam thanh hà \"việc đầu tư hạ tầng cấp thoát nước chưa đạt yêu cầu.',\n",
       " 'để 100% người dân được dùng nước sạch, chúng ta sẽ phải đầu tư lớn\" - ông điệp phân tích và chia sẻ số liệu từ báo cáo của ngân hàng thế giới (wb) cho hay chúng ta cần đầu tư khoảng 9 tỉ usd đến năm 2030 cho hạ tầng cấp thoát nước, bao gồm việc cung cấp đủ nước sạch cho người dân và thoát nước, xử lý nước thải.',\n",
       " 'đây là con số thách thức trong bối cảnh các nguồn lực đầu tư hạn chế - chủ tịch hội cấp thoát nước việt nam nhìn nhận.',\n",
       " 'cùng quan điểm trên, gs nguyễn việt anh còn cho rằng con số gần 9 tỉ usd chỉ đáp ứng được những nhu cầu tối thiểu.',\n",
       " 'ông cho rằng thực tế nhiều tổ chức quốc tế đánh giá việt nam cần tới 30 tỉ usd để hoàn thiện các hạ tầng cấp thoát nước, gồm các dự án nước sạch, xử lý nước thải dân sinh và công nghiệp.',\n",
       " 'vì thế, gs nguyễn việt anh kiến nghị các cơ quan quản lý nhà nước cần đánh giá đúng giá trị của nước để đưa ra khung chính sách phù hợp, và cần tư nhân hóa, huy động nguồn lực đầu tư hạ tầng lĩnh vực này.',\n",
       " 'còn ông nguyễn ngọc điệp kiến nghị các ngành chức năng cần điều chỉnh hệ thống pháp luật theo hướng cởi mở và đổi mới kỹ thuật, để thu hút các doanh nghiệp trong và ngoài nước đầu tư vào lĩnh vực hạ tầng cấp thoát nước.',\n",
       " 'dự báo mùa khô năm 2023 - 2024, xâm nhập mặn tại đồng bằng sông cửu long ở mức cao hơn trung bình nhiều năm, nguy cơ thiếu nước ngọt cục bộ.']"
      ]
     },
     "metadata": {},
     "output_type": "display_data"
    }
   ],
   "source": [
    "import nltk\n",
    "sentences = nltk.sent_tokenize(contents_parsed[6])\n",
    "display(sentences)"
   ]
  },
  {
   "cell_type": "code",
   "execution_count": 95,
   "metadata": {
    "id": "hGQegWbQhQO0"
   },
   "outputs": [],
   "source": [
    "from gensim.models import KeyedVectors\n",
    "w2v = KeyedVectors.load_word2vec_format(\"/TTCS/NLP/vi.vec\")\n",
    "vocab = w2v.key_to_index"
   ]
  },
  {
   "cell_type": "code",
   "execution_count": 96,
   "metadata": {
    "id": "jpdePBfxhukT"
   },
   "outputs": [],
   "source": [
    "X = []\n",
    "for sentence in sentences:\n",
    "    sentence = ViTokenizer.tokenize(sentence)\n",
    "    words = sentence.split(\" \")\n",
    "    sentence_vec = np.array([w2v.get_vector(word) for word in words if word in w2v.key_to_index]).sum(axis=0, dtype=np.float64)\n",
    "    X.append(sentence_vec)"
   ]
  },
  {
   "cell_type": "code",
   "execution_count": 97,
   "metadata": {
    "colab": {
     "base_uri": "https://localhost:8080/"
    },
    "id": "xUhGXWtbhxWA",
    "outputId": "75143a68-0389-449e-afb0-c253bf3fb908"
   },
   "outputs": [],
   "source": [
    "from sklearn.cluster import KMeans\n",
    "n_clusters = 5\n",
    "kmeans = KMeans(n_clusters=n_clusters, n_init=10)\n",
    "kmeans = kmeans.fit(X)"
   ]
  },
  {
   "cell_type": "code",
   "execution_count": 98,
   "metadata": {
    "id": "DIsFVHsMh3lV"
   },
   "outputs": [],
   "source": [
    "from sklearn.metrics import pairwise_distances_argmin_min\n",
    "avg = [np.mean(np.where(kmeans.labels_ == j)[0]) for j in range(n_clusters)]\n",
    "closest = pairwise_distances_argmin_min(kmeans.cluster_centers_, X)[0]\n",
    "ordering = sorted(range(n_clusters), key=lambda k: avg[k])\n",
    "summary = ' '.join([sentences[closest[idx]] for idx in ordering])"
   ]
  },
  {
   "cell_type": "code",
   "execution_count": 99,
   "metadata": {
    "colab": {
     "base_uri": "https://localhost:8080/",
     "height": 157
    },
    "id": "VVzSPgWgh8xG",
    "outputId": "9458a3bb-e19d-4ae2-9a63-e793c720296f"
   },
   "outputs": [
    {
     "data": {
      "text/plain": [
       "'đường phố hà nội ngập úng sau mỗi cơn mưa lớn nam trần những thông tin này được các chuyên gia của việt nam và quốc tế khuyến cáo tại hội thảo \"chiến lược thích ứng với biến đổi khí hậu, tập trung vào khủng hoảng khí hậu và nguồn nước\" tổ chức tại hà nội sáng 28-3, trong khuôn khổ tuần lễ nước quốc tế singapore. theo ông điệp, hiện có 71 doanh nghiệp thoát nước, xử lý nước thải, chủ yếu là thoát nước dùng chung với 82 nhà máy xử lý nước thải, công suất thiết kế 1 triệu m3/ngày đêm, cùng với khoảng 80 dự án xử lý nước thải, công suất hơn 2 triệu m3/ngày đêm đang được triển khai. \"hiện việt nam có 750 nhà máy xử lý nước sạch với tổng công suất hơn 1 triệu m3/ngày đêm. bà halla maher qaddumi cho rằng việt nam được xếp vào mức dồi dào nước nhưng đang phải đối mặt với tình huống hạn hán vào mùa khô tại các sông trọng điểm, nơi có thể cấp đến 80% gdp cho cả nước. còn ông nguyễn ngọc điệp kiến nghị các ngành chức năng cần điều chỉnh hệ thống pháp luật theo hướng cởi mở và đổi mới kỹ thuật, để thu hút các doanh nghiệp trong và ngoài nước đầu tư vào lĩnh vực hạ tầng cấp thoát nước.'"
      ]
     },
     "execution_count": 99,
     "metadata": {},
     "output_type": "execute_result"
    }
   ],
   "source": [
    "summary"
   ]
  },
  {
   "cell_type": "code",
   "execution_count": null,
   "metadata": {},
   "outputs": [],
   "source": []
  }
 ],
 "metadata": {
  "colab": {
   "provenance": []
  },
  "kernelspec": {
   "display_name": "Python 3 (ipykernel)",
   "language": "python",
   "name": "python3"
  },
  "language_info": {
   "codemirror_mode": {
    "name": "ipython",
    "version": 3
   },
   "file_extension": ".py",
   "mimetype": "text/x-python",
   "name": "python",
   "nbconvert_exporter": "python",
   "pygments_lexer": "ipython3",
   "version": "3.11.1"
  }
 },
 "nbformat": 4,
 "nbformat_minor": 1
}
